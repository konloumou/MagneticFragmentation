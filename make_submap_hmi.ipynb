{
 "cells": [
  {
   "cell_type": "markdown",
   "metadata": {},
   "source": [
    "Iain's code of loading in HMI data, selecting  submap and saving it out as a fits file. Start the pipeline with this one. Run on the cluster as a python code."
   ]
  },
  {
   "cell_type": "code",
   "execution_count": null,
   "metadata": {},
   "outputs": [],
   "source": [
    "import glob\n",
    "from datetime import datetime\n",
    "import os\n",
    "\n",
    "import astropy.units as u\n",
    "import sunpy.map\n",
    "from sunpy.coordinates import frames\n",
    "from astropy.coordinates import SkyCoord\n",
    "\n",
    "from window_corner_rotation import window_corner_rotation\n",
    "\n",
    "import warnings\n",
    "warnings.filterwarnings(\"ignore\")"
   ]
  },
  {
   "cell_type": "code",
   "execution_count": null,
   "metadata": {},
   "outputs": [],
   "source": [
    "act_region = 'SPoCA21717'\n",
    "\n",
    "datapath = '/scratch/mshtarii/dina/magfrag_data/SPoCA21717_HMI_data/'\n",
    "hmiimg = sorted(glob.glob(datapath+\"/hmi.m*fits\"))\n",
    "\n",
    "main = '/scratch/mshtarii/dina/output_'+ act_region +'/'\n",
    "\n",
    "subarraysdir = main +'hmi_submap_arrays/'\n",
    "outname ='hmisub_'\n",
    "\n",
    "if not os.path.exists(subarraysdir):\n",
    "        os.makedirs(subarraysdir)\n",
    "\n",
    "print(len(hmiimg))"
   ]
  },
  {
   "cell_type": "code",
   "execution_count": null,
   "metadata": {},
   "outputs": [],
   "source": [
    "# box at initial time\n",
    "bottom_left = [-221,-430] \n",
    "top_right = [-170,-387]\n",
    "\n",
    "data0=sunpy.map.Map(hmiimg[0]).rotate()\n",
    "\n",
    "initial_obs_time = data0.date\n",
    "\n",
    "bl = SkyCoord(bottom_left[0] * u.arcsec,\n",
    "              bottom_left[1] * u.arcsec, frame = frames.Helioprojective, \\\n",
    "              obstime = initial_obs_time)  \n",
    "tr = SkyCoord(top_right[0] * u.arcsec,\n",
    "              top_right[1] * u.arcsec, frame = frames.Helioprojective, \\\n",
    "              obstime = initial_obs_time) \n",
    "bl_stonyhurst = bl.transform_to(frames.HeliographicStonyhurst)\n",
    "tr_stonyhurst = tr.transform_to(frames.HeliographicStonyhurst)\n",
    "\n",
    "# Create a submap using those coordinates\n",
    "submap = data0.submap(bl, tr)\n",
    "\n",
    "submap.save(subarraysdir+outname+submap.date.strftime(\"%Y%m%d_%H%M%S\")+'.fits',overwrite=True)"
   ]
  },
  {
   "cell_type": "code",
   "execution_count": null,
   "metadata": {},
   "outputs": [],
   "source": [
    "for i in range(1,len(hmiimg)):\n",
    "    print(str(i+1)+' of '+str(len(hmiimg))+' '+hmiimg[i])\n",
    "    data=sunpy.map.Map(hmiimg[i]).rotate()\n",
    "    timediff = (data.date - initial_obs_time).total_seconds()/86400\n",
    "    [bl, tr] = window_corner_rotation(bl_stonyhurst, tr_stonyhurst, timediff, data.date)\n",
    "\n",
    "\n",
    "    # Create a submap using those coordinates\n",
    "    submap = data.submap(bl, tr)\n",
    "\n",
    "    submap.save(subarraysdir+outname+submap.date.strftime(\"%Y%m%d_%H%M%S\")+'.fits',overwrite=True)"
   ]
  }
 ],
 "metadata": {
  "kernelspec": {
   "display_name": "Python 3",
   "language": "python",
   "name": "python3"
  },
  "language_info": {
   "codemirror_mode": {
    "name": "ipython",
    "version": 3
   },
   "file_extension": ".py",
   "mimetype": "text/x-python",
   "name": "python",
   "nbconvert_exporter": "python",
   "pygments_lexer": "ipython3",
   "version": "3.6.6"
  }
 },
 "nbformat": 4,
 "nbformat_minor": 2
}
